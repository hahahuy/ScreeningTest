{
  "cells": [
    {
      "cell_type": "markdown",
      "metadata": {
        "id": "mXKQ_OKimG8N"
      },
      "source": [
        "#MAIN"
      ]
    },
    {
      "cell_type": "markdown",
      "metadata": {
        "id": "_NRFF4c777F9"
      },
      "source": [
        "\n",
        "\n",
        "<aside>\n",
        "💡 Develop a Python program to generate a list of $2n$ unique random positive integers, each using a maximum of $n$ bits and represented in decimals, and another random positive integer, $k$ , using $n$ bits.  Then, choose one (or more, if you prefer) of the following options to implement:\n",
        "\n",
        "1. Check if $k$ exists in the list.\n",
        "2. Find all integers less than $k$ in the list.\n",
        "\n",
        "Display the results and the number of steps required to achieve them.\n",
        "\n",
        "</aside>"
      ]
    },
    {
      "cell_type": "code",
      "execution_count": 1,
      "metadata": {
        "colab": {
          "base_uri": "https://localhost:8080/",
          "height": 36
        },
        "id": "R-DXn5ZSA_-4",
        "outputId": "da2d4fb3-5c8f-47fa-eee6-97e7ab577d16"
      },
      "outputs": [
        {
          "data": {
            "application/vnd.google.colaboratory.intrinsic+json": {
              "type": "string"
            },
            "text/plain": [
              "' If needed, increase the limit for integer string conversion, since jpynb file limit them\\n\\nimport sys\\nsys.set_int_max_str_digits(1000)'"
            ]
          },
          "execution_count": 1,
          "metadata": {},
          "output_type": "execute_result"
        }
      ],
      "source": [
        "import random as rd\n",
        "\n",
        "\"\"\" If needed, increase the limit for integer string conversion, since jpynb file limit them\n",
        "\n",
        "import sys\n",
        "sys.set_int_max_str_digits(1000)\"\"\""
      ]
    },
    {
      "cell_type": "code",
      "execution_count": 2,
      "metadata": {
        "colab": {
          "base_uri": "https://localhost:8080/"
        },
        "id": "BhGYfT6TBAg6",
        "outputId": "de1c5029-6d04-4f05-e26f-a585e2823bf6"
      },
      "outputs": [
        {
          "name": "stdout",
          "output_type": "stream",
          "text": [
            "15229 [88796, 94028, 98349, 107336, 108299, 223983, 225602, 230152, 238696, 254644, 267152, 317706, 334457, 343982, 375329, 394446, 507870, 518160, 533446, 548863, 577514, 611663, 630682, 657975, 681634, 683482, 702883, 733537, 783450, 855998, 871398, 874480, 899678, 912067, 924651, 933729, 970541, 997007, 1031385, 1035793]\n"
          ]
        }
      ],
      "source": [
        "def generate_random_list(n: int):\n",
        "  \"\"\"\n",
        "  Input:\n",
        "    n: The number of bits to use for each integer.\n",
        "  Output:\n",
        "    A k random positive integers and a list of 2n unique random positive integers (decimal).\n",
        "  \"\"\"\n",
        "  # Raise an error if the number of bits is less than or equal to 1,\n",
        "  # or if the number of bits is not a integer as this would not produce a valid random integer.\n",
        "  assert n > 0, \"n must be greater than 0.\"\n",
        "  assert isinstance(n, int), \"n must be an integer.\"\n",
        "\n",
        "  # Create a set to store the generated integers to ensure uniqueness.\n",
        "  unique_integers = set()\n",
        "  k = rd.randint(1, 2**n ) # Create k\n",
        "\n",
        "  # Generate random integers until the set has 2n elements.\n",
        "  while len(unique_integers) < 2 * n:\n",
        "    # Generate a random integer using the maximum number of bits.\n",
        "    random_integer = rd.randint(1, 2**n)\n",
        "    unique_integers.add(random_integer)\n",
        "\n",
        "  return k, list(unique_integers)\n",
        "\n",
        "#example usage\n",
        "k, list_n = generate_random_list(20)\n",
        "list_n = sorted(list_n)\n",
        "print(k, list_n)"
      ]
    },
    {
      "cell_type": "markdown",
      "metadata": {
        "id": "ANNgRIFtmHz_"
      },
      "source": [
        "#MOST SIMPLE RESULT (Linear search)\n"
      ]
    },
    {
      "cell_type": "code",
      "execution_count": 3,
      "metadata": {
        "colab": {
          "base_uri": "https://localhost:8080/"
        },
        "id": "Yp0dHIaNkWDv",
        "outputId": "0898237f-eeea-4530-989c-d9c2840e7313"
      },
      "outputs": [
        {
          "name": "stdout",
          "output_type": "stream",
          "text": [
            "k = 15229 does not exist in the list.\n"
          ]
        }
      ],
      "source": [
        "print(f\"k = {k} exists in the list.\"\n",
        "      if k in list_n else\n",
        "      f\"k = {k} does not exist in the list.\")"
      ]
    },
    {
      "cell_type": "code",
      "execution_count": 4,
      "metadata": {
        "colab": {
          "base_uri": "https://localhost:8080/"
        },
        "id": "uGj3Ow1mF1i5",
        "outputId": "3109d5ca-d0b4-44d5-a2c8-3a4d3bcda8f7"
      },
      "outputs": [
        {
          "name": "stdout",
          "output_type": "stream",
          "text": [
            "Integers less than k in the list: []\n"
          ]
        }
      ],
      "source": [
        "print(f\"Integers less than k in the list: {[integer for integer in list_n if integer < k]}\")"
      ]
    },
    {
      "cell_type": "markdown",
      "metadata": {
        "id": "Q8O4zDCJmSBt"
      },
      "source": [
        "#GENERATE RESULT AND STEPS's CODE"
      ]
    },
    {
      "cell_type": "code",
      "execution_count": 5,
      "metadata": {
        "colab": {
          "base_uri": "https://localhost:8080/"
        },
        "id": "GHDBc3SOjvXw",
        "outputId": "cfe41e68-3e9f-4caa-962a-f9e3eabe4f77"
      },
      "outputs": [
        {
          "name": "stdout",
          "output_type": "stream",
          "text": [
            "(False, 5) 0\n"
          ]
        }
      ],
      "source": [
        "def check_k_BinarySearch(k: int, array: list[int], low= 0, steps= 0):\n",
        "  \"\"\"Checks if k exists in the list and counts steps.\n",
        "\n",
        "  Input:\n",
        "      array: A list of random positive integers.\n",
        "      k: Another random positive integer.\n",
        "      steps: An optional counter variable (default 0).\n",
        "\n",
        "  Output:\n",
        "      A boolean value indicate k is really exist, the number of steps taken and the index postion of k.\n",
        "  \"\"\"\n",
        "  # Repeat until the pointers low and high meet each other\n",
        "  high = len(array)-1\n",
        "  while low <= high:\n",
        "      steps += 1 # Count step for each iteration\n",
        "      mid = low + (high - low)//2\n",
        "      if array[mid] == k:\n",
        "          return True, steps, mid # K found\n",
        "      elif array[mid] < k:\n",
        "          low = mid + 1\n",
        "      else:\n",
        "          high = mid - 1\n",
        "  return False, steps, mid # K not found\n",
        "\n",
        "# example usage\n",
        "k_exist, ste, position = check_k_BinarySearch(k, list_n)\n",
        "print((k_exist, ste), position)"
      ]
    },
    {
      "cell_type": "code",
      "execution_count": 6,
      "metadata": {
        "colab": {
          "base_uri": "https://localhost:8080/"
        },
        "id": "6yAJ8hH8GQuo",
        "outputId": "70b54459-5ac3-456d-9643-a181056d4897"
      },
      "outputs": [
        {
          "name": "stdout",
          "output_type": "stream",
          "text": [
            "([], 1)\n"
          ]
        }
      ],
      "source": [
        "def find_less_than_k(position: int, list_input: list[int], steps=1):\n",
        "  \"\"\"\n",
        "    Finds all elements in the list that are less than a specific position (index) in the list.\n",
        "\n",
        "    Args:\n",
        "        position: The index (position) in the list to use as a reference.\n",
        "        list_input: The input list of integers.\n",
        "        steps: An optional counter variable (default 1).\n",
        "\n",
        "    Returns:\n",
        "        A new list containing numbers that less than k and number of steps taken (alway 1 + steps of check_k_BinarySearch() ).\n",
        "    \"\"\"\n",
        "  new_list = list_input[:position]\n",
        "  return new_list, steps\n",
        "\n",
        "# example usage\n",
        "list_nk = find_less_than_k(position, list_n)\n",
        "print(list_nk)"
      ]
    },
    {
      "cell_type": "markdown",
      "metadata": {
        "id": "sU-oyxVXx3vN"
      },
      "source": [
        "# 💬 Discussion\n",
        "\n",
        "1. For positive integers (numbers greater than 0), the `.randint()` function provides a more controllable random number range compared to the .getrandbits() function. While useful, `.getrandbits()` only uses one parameter n to generate values from 0 to 2^n (excluding 0).  The `.randint()` function, however, can generate duplicate values.  To ensure unique values and maintain the appropriate data format for calculations, the initial list of random numbers can be converted into a set using the `set()` function. Sets inherently do not allow duplicates. Finally, the set can be converted back to a  list using the `list()` function for compatibility with further operations.\n",
        "\n",
        "    🔺 **Additional Infor** : Using `sorted()` for better computational resource of `check_k_BinarySearch()` and `find_less_than_k()`\n",
        "\n",
        "2. By using Binary Search algorithm, it can archive the most optimize solution for search and check k in the random list. And the steps are vary from our initial n numbers, for example:\n",
        "\n",
        "        n = 20\n",
        "        k = 761184\n",
        "        list = [99226, 121049, 142344, 147790, 207430, 227912, 246622, 252899, 283137, 285602,\n",
        "                314936, 378224, 378640, 383745, 384281, 403282, 449425, 470670, 486480, 544798,\n",
        "                554847, 606470, 655464, 675735, 692531, 735462, 765299, 776859, 804453, 812732,\n",
        "                813332, 924053, 954573, 960322, 975899, 976870, 1002966, 1013055, 1021620, 1041776]\n",
        "        check_k_BinarySearch(k, list)\n",
        "        # Will give out (False, 5) which is k isn't exist and cost only 5 steps to verify it\n",
        "\n",
        "\n",
        "+ For `check_k_BinarySearch()` : In the best case scenario, the function can find the target element in just one comparison, resulting in a time complexity of O(1). On the other hand, the worst-case scenario requires traversing the entire sorted array, leading to a complexity of O(log n). The average case complexity, where the target element is found somewhere in the middle on average, is also O(log n).\"\n",
        "\n",
        "\n",
        "+ For `find_less_than_k()` : based on the `check_k_BinarySearch()`, that initialy give out the index position, it will only cost 1 more step to include the list from the start to that position. So the complexity will be O(log n)\n",
        "\n",
        "3. Task 1a (specifically if using linear algorithm) can be improve by using quantum circuit, while it doesn't require quantum computing for significant improvement, but for \"checking k in the list\" task could archive a theoretical advantage.\n",
        "\n",
        "    # Comparing Classical & Quantum Approach  \n",
        "\n",
        "    + Classical: Searching a list of size 2^n for a specific element can be done in `O(n)` time by using linear search. These are a very basic solution for searching problem\n",
        "\n",
        "    + Quantum: one of the most famous quantum search algorithm, Grover's algorithm, can find an element in an unsorted list with a runtime complexity of `O(sqrt(n))`. This could be potentially faster for very large values of n (millions or billions).\n",
        "\n",
        "  -> So we can't more agree that the runtime complexity is increasingly reduce from `O(n)` to `O(sqrt(n))`\n",
        "\n",
        "\n",
        "  + But when mentioned \"theoretical advantage\", while Grover's algorithm offers a theoretical speedup for searching large datasets by leveraging superposition, explores all possibilities simultaneously, it might not be practical for typical list sizes.\n",
        "  \n",
        "  + Implementing and running a quantum program can be complex, and the overhead might outweigh the benefit for smaller lists. Additionally, current quantum computers are prone to errors, and correcting those errors adds significant computational cost."
      ]
    },
    {
      "cell_type": "markdown",
      "metadata": {
        "id": "ojv36XnCBgWs"
      },
      "source": [
        "\n",
        "# **TESTING**\n"
      ]
    },
    {
      "cell_type": "code",
      "execution_count": 36,
      "metadata": {
        "colab": {
          "base_uri": "https://localhost:8080/"
        },
        "collapsed": true,
        "id": "ZtRfkZoEuqc_",
        "outputId": "f212fa7f-37e4-4ac7-9f2e-caa300d0cdc0"
      },
      "outputs": [
        {
          "name": "stdout",
          "output_type": "stream",
          "text": [
            "857 [128, 897, 903, 655, 272, 23, 666, 31, 932, 833, 73, 75, 212, 986, 872, 233, 371, 890, 253, 894]\n",
            "(False, 5)\n",
            "([128, 897, 903, 655, 272, 23, 666, 31, 932, 833, 73, 75, 212], 1)\n"
          ]
        }
      ],
      "source": [
        "import random as rd\n",
        "\n",
        "def generate_random_list(n: int):\n",
        "  unique_integers = set()\n",
        "  k = rd.randint(0, 2**n)\n",
        "  while len(unique_integers) < 2 * n:\n",
        "    random_integer = rd.randint(0, 2**n)\n",
        "    unique_integers.add(random_integer)\n",
        "  return k, list(unique_integers)\n",
        "\n",
        "def check_k_BinarySearch(k: int, array: list[int], low= 0, steps= 0):\n",
        "  high = len(array)-1\n",
        "  while low <= high:\n",
        "      steps += 1\n",
        "      mid = low + (high - low)//2\n",
        "      if array[mid] == k:\n",
        "          return True, steps, mid\n",
        "      elif array[mid] < k:\n",
        "          low = mid + 1\n",
        "      else:\n",
        "          high = mid - 1\n",
        "  return False, steps, mid\n",
        "\n",
        "def find_less_than_k(position: int, list_input: list[int], steps=1):\n",
        "\n",
        "  new_list = list_input[:position]\n",
        "  return new_list, steps\n",
        "\n",
        "k, list_n = generate_random_list(10)\n",
        "k_exist, ste, position = check_k_BinarySearch(k, list_n)\n",
        "list_nk = find_less_than_k(position, list_n)\n",
        "print(k, list_n)\n",
        "print((k_exist, ste))\n",
        "print(list_nk)"
      ]
    },
    {
      "cell_type": "markdown",
      "metadata": {
        "id": "7mzqf6hRmLUy"
      },
      "source": [
        "#QIKIST INSTALL & CHECK"
      ]
    },
    {
      "cell_type": "code",
      "execution_count": 18,
      "metadata": {
        "colab": {
          "base_uri": "https://localhost:8080/"
        },
        "collapsed": true,
        "id": "RfRIzQUkV4Q7",
        "outputId": "3f415e96-2a88-4d19-afdb-f48d7f3404f1"
      },
      "outputs": [
        {
          "name": "stdout",
          "output_type": "stream",
          "text": [
            "Requirement already satisfied: qiskit in /usr/local/lib/python3.10/dist-packages (1.1.0)\n",
            "Requirement already satisfied: rustworkx>=0.14.0 in /usr/local/lib/python3.10/dist-packages (from qiskit) (0.14.2)\n",
            "Requirement already satisfied: numpy<3,>=1.17 in /usr/local/lib/python3.10/dist-packages (from qiskit) (1.25.2)\n",
            "Requirement already satisfied: scipy>=1.5 in /usr/local/lib/python3.10/dist-packages (from qiskit) (1.11.4)\n",
            "Requirement already satisfied: sympy>=1.3 in /usr/local/lib/python3.10/dist-packages (from qiskit) (1.12)\n",
            "Requirement already satisfied: dill>=0.3 in /usr/local/lib/python3.10/dist-packages (from qiskit) (0.3.8)\n",
            "Requirement already satisfied: python-dateutil>=2.8.0 in /usr/local/lib/python3.10/dist-packages (from qiskit) (2.8.2)\n",
            "Requirement already satisfied: stevedore>=3.0.0 in /usr/local/lib/python3.10/dist-packages (from qiskit) (5.2.0)\n",
            "Requirement already satisfied: typing-extensions in /usr/local/lib/python3.10/dist-packages (from qiskit) (4.11.0)\n",
            "Requirement already satisfied: symengine>=0.11 in /usr/local/lib/python3.10/dist-packages (from qiskit) (0.11.0)\n",
            "Requirement already satisfied: six>=1.5 in /usr/local/lib/python3.10/dist-packages (from python-dateutil>=2.8.0->qiskit) (1.16.0)\n",
            "Requirement already satisfied: pbr!=2.1.0,>=2.0.0 in /usr/local/lib/python3.10/dist-packages (from stevedore>=3.0.0->qiskit) (6.0.0)\n",
            "Requirement already satisfied: mpmath>=0.19 in /usr/local/lib/python3.10/dist-packages (from sympy>=1.3->qiskit) (1.3.0)\n",
            "Requirement already satisfied: qiskit_algorithms in /usr/local/lib/python3.10/dist-packages (0.3.0)\n",
            "Requirement already satisfied: qiskit>=0.44 in /usr/local/lib/python3.10/dist-packages (from qiskit_algorithms) (1.1.0)\n",
            "Requirement already satisfied: scipy>=1.4 in /usr/local/lib/python3.10/dist-packages (from qiskit_algorithms) (1.11.4)\n",
            "Requirement already satisfied: numpy>=1.17 in /usr/local/lib/python3.10/dist-packages (from qiskit_algorithms) (1.25.2)\n",
            "Requirement already satisfied: rustworkx>=0.14.0 in /usr/local/lib/python3.10/dist-packages (from qiskit>=0.44->qiskit_algorithms) (0.14.2)\n",
            "Requirement already satisfied: sympy>=1.3 in /usr/local/lib/python3.10/dist-packages (from qiskit>=0.44->qiskit_algorithms) (1.12)\n",
            "Requirement already satisfied: dill>=0.3 in /usr/local/lib/python3.10/dist-packages (from qiskit>=0.44->qiskit_algorithms) (0.3.8)\n",
            "Requirement already satisfied: python-dateutil>=2.8.0 in /usr/local/lib/python3.10/dist-packages (from qiskit>=0.44->qiskit_algorithms) (2.8.2)\n",
            "Requirement already satisfied: stevedore>=3.0.0 in /usr/local/lib/python3.10/dist-packages (from qiskit>=0.44->qiskit_algorithms) (5.2.0)\n",
            "Requirement already satisfied: typing-extensions in /usr/local/lib/python3.10/dist-packages (from qiskit>=0.44->qiskit_algorithms) (4.11.0)\n",
            "Requirement already satisfied: symengine>=0.11 in /usr/local/lib/python3.10/dist-packages (from qiskit>=0.44->qiskit_algorithms) (0.11.0)\n",
            "Requirement already satisfied: six>=1.5 in /usr/local/lib/python3.10/dist-packages (from python-dateutil>=2.8.0->qiskit>=0.44->qiskit_algorithms) (1.16.0)\n",
            "Requirement already satisfied: pbr!=2.1.0,>=2.0.0 in /usr/local/lib/python3.10/dist-packages (from stevedore>=3.0.0->qiskit>=0.44->qiskit_algorithms) (6.0.0)\n",
            "Requirement already satisfied: mpmath>=0.19 in /usr/local/lib/python3.10/dist-packages (from sympy>=1.3->qiskit>=0.44->qiskit_algorithms) (1.3.0)\n"
          ]
        }
      ],
      "source": [
        "%pip install qiskit\n",
        "%pip install qiskit_algorithms"
      ]
    },
    {
      "cell_type": "code",
      "execution_count": 17,
      "metadata": {
        "colab": {
          "base_uri": "https://localhost:8080/"
        },
        "id": "nLd5NZn9coLh",
        "outputId": "cb00a5a9-0aac-4d8a-83be-1bc3e128ce69"
      },
      "outputs": [
        {
          "name": "stdout",
          "output_type": "stream",
          "text": [
            "qiskit version: 1.1.0\n",
            "qiskit_algorithms version: 0.3.0\n"
          ]
        }
      ],
      "source": [
        "# prompt: check all the above library versions\n",
        "\n",
        "import qiskit\n",
        "import qiskit_algorithms\n",
        "\n",
        "print(f\"qiskit version: {qiskit.__version__}\")\n",
        "print(f\"qiskit_algorithms version: {qiskit_algorithms.__version__}\")\n"
      ]
    },
    {
      "cell_type": "markdown",
      "metadata": {
        "id": "fDLLAm-Zj_FX"
      },
      "source": [
        "#🔥 Bonus 1\n",
        "Using a quantum solution (Grover's searching algorithm) and implement a quantum program using Qiskit, to solve Task 1a (Search for k's existence in the list).\n",
        "\n",
        "Since we now consider for quantum algorithm approaching, knowing quantum algorithm only intake binary number, changing our initial integer value into binary for processing and changing back to integer value (if needed) is a requirement\n"
      ]
    },
    {
      "cell_type": "markdown",
      "metadata": {
        "id": "20OLgNkME3EU"
      },
      "source": [
        "1. Initialtively our number ( K and The List ) then convert them from Integers to Binary Strings"
      ]
    },
    {
      "cell_type": "code",
      "execution_count": 38,
      "metadata": {
        "colab": {
          "base_uri": "https://localhost:8080/"
        },
        "id": "zNGGOzOo1lpZ",
        "outputId": "095c0749-7ba3-4148-cb46-2467b3120b38"
      },
      "outputs": [
        {
          "name": "stdout",
          "output_type": "stream",
          "text": [
            "['0010000000', '1110000001', '1110000111', '1010001111', '0100010000', '0000010111', '1010011010', '0000011111', '1110100100', '1101000001', '0001001001', '0001001011', '0011010100', '1111011010', '1101101000', '0011101001', '0101110011', '1101111010', '0011111101', '1101111110']\n",
            "1101011001\n"
          ]
        }
      ],
      "source": [
        "# Example values(only changing these for testing the quantum circuit)\n",
        "n = 10\n",
        "k, list_n = [857, [128, 897, 903, 655, 272,\n",
        "                   23, 666, 31, 932, 833,\n",
        "                   73, 75, 212, 986, 872,\n",
        "                   233, 371, 890, 253, 894]]\n",
        "\n",
        "# Binary strings converting\n",
        "list_n_bit = [bin(i)[2:].zfill(n) for i in list_n]\n",
        "k_Q = bin(k)[2:].zfill(n)\n",
        "\n",
        "print(list_n_bit)\n",
        "print(k_Q)"
      ]
    },
    {
      "cell_type": "markdown",
      "metadata": {
        "id": "BxHAVmqoIoK5"
      },
      "source": [
        "\n",
        "2. Set Up the Quantum Circuit, for example, if your search space includes integers from 0 to 15, you'll need 4 qubits (2^4 = 16 possible states). In our case, our 2*n list could contain values up to 10 bits in binary (2^10 = 1024 possible states), so we need 10 qubits for measuring and comparing (that why our k_Q have to take `.z_full(n)` )."
      ]
    },
    {
      "cell_type": "code",
      "execution_count": 50,
      "metadata": {
        "colab": {
          "base_uri": "https://localhost:8080/",
          "height": 718
        },
        "id": "Z9mnX3DyoeoL",
        "outputId": "9e35bf52-4cbd-4230-aea2-be6368a941ff"
      },
      "outputs": [
        {
          "data": {
            "image/png": "[encoded data removed]",
            "text/plain": [
              "<Figure size 927.658x869.556 with 1 Axes>"
            ]
          },
          "execution_count": 50,
          "metadata": {},
          "output_type": "execute_result"
        }
      ],
      "source": [
        "from qiskit import QuantumCircuit\n",
        "from qiskit_algorithms import AmplificationProblem\n",
        "from qiskit_algorithms import Grover\n",
        "from qiskit.primitives import Sampler\n",
        "from qiskit.quantum_info import Statevector\n",
        "\n",
        "# Initial a n qubits circuit based on our k_Q bits value.\n",
        "# These 10 qubits containing 2^10 state, the state we desire to find is 'k_Q = 1110010000'\n",
        "# Mark the k_Q state for a higher amplitude than other\n",
        "oracle = Statevector.from_label(k_Q)\n",
        "\n",
        "# define Grover's algorithm\n",
        "# Mark the state of each value in the list, giving it a little bit higher amplitude than all other state\n",
        "problem = AmplificationProblem(oracle, is_good_state=list_n_bit)\n",
        "\n",
        "# draw the circuit by decompose() the grover operator to see it expanded into its component gates.\n",
        "problem.grover_operator.decompose().draw(output=\"mpl\")"
      ]
    },
    {
      "cell_type": "code",
      "execution_count": 51,
      "metadata": {
        "id": "GZkH1WCNcavd"
      },
      "outputs": [],
      "source": [
        "grover = Grover(sampler=Sampler())\n",
        "result = grover.amplify(problem)"
      ]
    },
    {
      "cell_type": "code",
      "execution_count": 47,
      "metadata": {
        "colab": {
          "base_uri": "https://localhost:8080/"
        },
        "id": "DfYPtjMn0IOf",
        "outputId": "fed9ba6d-64fa-43a5-9ca7-2bb5fb548e16"
      },
      "outputs": [
        {
          "name": "stdout",
          "output_type": "stream",
          "text": [
            "Result type: <class 'qiskit_algorithms.amplitude_amplifiers.grover.GroverResult'>\n",
            "\n",
            "Top measurement: 1101011001\n",
            "Oracle evaluation: False\n",
            "1101011001 or k value (857) does not exist in the list\n",
            "of [128, 897, 903, 655, 272, 23, 666, 31, 932, 833, 73, 75, 212, 986, 872, 233, 371, 890, 253, 894]\n"
          ]
        }
      ],
      "source": [
        "print(\"Result type:\", type(result))\n",
        "print()\n",
        "print(\"Top measurement:\", result.top_measurement)\n",
        "print(\"Oracle evaluation:\", result.oracle_evaluation)\n",
        "print(f\"{result.top_measurement} or k value ({k}) does exist in the list\" if result.oracle_evaluation else f\"{result.top_measurement} or k value ({k}) does not exist in the list\")\n",
        "print(f\"of {list_n}\")"
      ]
    },
    {
      "cell_type": "markdown",
      "metadata": {
        "id": "qAoG4MO7PQty"
      },
      "source": [
        "**To summarize and for easier imagine, we can say that it find the highest posibility of that state when coming though the circuit, or through these steps:**\n",
        "\n",
        "1. Superposition:  Imagine a list of qubits (not numbers), one for each element in the search space.  Initially, these qubits are all in a uniform superposition, meaning they can represent both 0 and 1 simultaneously. This creates a state where all possibilities have an equal chance.\n",
        "\n",
        "2. Oracle Function: This function acts like a filter. When given a specific element (k, the one we looking for in the list), it \"marks\" the corresponding qubit in the superposition by performing a specific operation. Essentially, it increases the amplitude (think of it as a weight) associated with the target state.\n",
        "\n",
        "3. Grover Diffusion Operator: This operator ensures fairness by spreading the amplitude throughout the superposition again. While it increases the target state's amplitude, it doesn't completely neglect other possibilities. This process is repeated a specific number of times based on the search space size.\n",
        "\n",
        "4. Measurement:  Finally, we measure the qubits. This collapses the superposition, forcing one specific state to be observed. Ideally, it will be the element we were searching for (the one marked by the oracle).\n",
        "\n",
        "\n",
        "  Then finally can checkout and give us the result whether k exist in the list or not"
      ]
    },
    {
      "cell_type": "markdown",
      "metadata": {
        "id": "0thwMKOQk6G5"
      },
      "source": [
        "#🔥 Bonus 2\n",
        "Propose a simple deployment approach for this task by packaging your program in a Docker container and publishing these implementations as API services using any API frameworks (such as Flask and FastAPI). Implement your proposal if possible."
      ]
    },
    {
      "cell_type": "code",
      "execution_count": 13,
      "metadata": {
        "id": "99ZJzHY6lHNj"
      },
      "outputs": [],
      "source": []
    }
  ],
  "metadata": {
    "colab": {
      "provenance": []
    },
    "kernelspec": {
      "display_name": "Python 3",
      "name": "python3"
    },
    "language_info": {
      "name": "python"
    }
  },
  "nbformat": 4,
  "nbformat_minor": 0
}
